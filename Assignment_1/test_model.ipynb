{
 "cells": [
  {
   "cell_type": "code",
   "execution_count": 3,
   "metadata": {},
   "outputs": [],
   "source": [
    "import pickle\n",
    "\n",
    "sc=pickle.load(open('FWI_scaler.pkl','rb'))\n",
    "model=pickle.load(open('FWI_model.pkl','rb'))"
   ]
  },
  {
   "cell_type": "code",
   "execution_count": 22,
   "metadata": {},
   "outputs": [],
   "source": [
    "Unknown_data = {\n",
    "    'day':[1,2,3],\n",
    "    'month':[3,4,5], \n",
    "    'Temperature':[29,30,33], \n",
    "    'RH':[57,88,65], \n",
    "    'Ws':[18,10,12], \n",
    "    'Rain':[0,0.8,5.2], \n",
    "    'FFMC':[65.7,50,89.1], \n",
    "    'ISI':[1.3,2.5,9.1], \n",
    "    'BUI':[3.4,10.5,15.0], \n",
    "    'Region':[0,1,1], \n",
    "    'Classes_not fire':[0,1,0]\n",
    "}\n",
    "\n"
   ]
  },
  {
   "cell_type": "code",
   "execution_count": 23,
   "metadata": {},
   "outputs": [],
   "source": [
    "import pandas as pd\n",
    "df1= pd.DataFrame(Unknown_data)"
   ]
  },
  {
   "cell_type": "code",
   "execution_count": 24,
   "metadata": {},
   "outputs": [
    {
     "data": {
      "text/html": [
       "<div>\n",
       "<style scoped>\n",
       "    .dataframe tbody tr th:only-of-type {\n",
       "        vertical-align: middle;\n",
       "    }\n",
       "\n",
       "    .dataframe tbody tr th {\n",
       "        vertical-align: top;\n",
       "    }\n",
       "\n",
       "    .dataframe thead th {\n",
       "        text-align: right;\n",
       "    }\n",
       "</style>\n",
       "<table border=\"1\" class=\"dataframe\">\n",
       "  <thead>\n",
       "    <tr style=\"text-align: right;\">\n",
       "      <th></th>\n",
       "      <th>day</th>\n",
       "      <th>month</th>\n",
       "      <th>Temperature</th>\n",
       "      <th>RH</th>\n",
       "      <th>Ws</th>\n",
       "      <th>Rain</th>\n",
       "      <th>FFMC</th>\n",
       "      <th>ISI</th>\n",
       "      <th>BUI</th>\n",
       "      <th>Region</th>\n",
       "      <th>Classes_not fire</th>\n",
       "    </tr>\n",
       "  </thead>\n",
       "  <tbody>\n",
       "    <tr>\n",
       "      <th>0</th>\n",
       "      <td>1</td>\n",
       "      <td>3</td>\n",
       "      <td>29</td>\n",
       "      <td>57</td>\n",
       "      <td>18</td>\n",
       "      <td>0.0</td>\n",
       "      <td>65.7</td>\n",
       "      <td>1.3</td>\n",
       "      <td>3.4</td>\n",
       "      <td>0</td>\n",
       "      <td>0</td>\n",
       "    </tr>\n",
       "    <tr>\n",
       "      <th>1</th>\n",
       "      <td>2</td>\n",
       "      <td>4</td>\n",
       "      <td>30</td>\n",
       "      <td>88</td>\n",
       "      <td>10</td>\n",
       "      <td>0.8</td>\n",
       "      <td>50.0</td>\n",
       "      <td>2.5</td>\n",
       "      <td>10.5</td>\n",
       "      <td>1</td>\n",
       "      <td>1</td>\n",
       "    </tr>\n",
       "    <tr>\n",
       "      <th>2</th>\n",
       "      <td>3</td>\n",
       "      <td>5</td>\n",
       "      <td>33</td>\n",
       "      <td>65</td>\n",
       "      <td>12</td>\n",
       "      <td>5.2</td>\n",
       "      <td>89.1</td>\n",
       "      <td>9.1</td>\n",
       "      <td>15.0</td>\n",
       "      <td>1</td>\n",
       "      <td>0</td>\n",
       "    </tr>\n",
       "  </tbody>\n",
       "</table>\n",
       "</div>"
      ],
      "text/plain": [
       "   day  month  Temperature  RH  Ws  Rain  FFMC  ISI   BUI  Region  \\\n",
       "0    1      3           29  57  18   0.0  65.7  1.3   3.4       0   \n",
       "1    2      4           30  88  10   0.8  50.0  2.5  10.5       1   \n",
       "2    3      5           33  65  12   5.2  89.1  9.1  15.0       1   \n",
       "\n",
       "   Classes_not fire  \n",
       "0                 0  \n",
       "1                 1  \n",
       "2                 0  "
      ]
     },
     "execution_count": 24,
     "metadata": {},
     "output_type": "execute_result"
    }
   ],
   "source": [
    "df1"
   ]
  },
  {
   "cell_type": "code",
   "execution_count": 25,
   "metadata": {},
   "outputs": [],
   "source": [
    "sc_df1=sc.transform(df1)"
   ]
  },
  {
   "cell_type": "code",
   "execution_count": 26,
   "metadata": {},
   "outputs": [
    {
     "data": {
      "text/plain": [
       "array([[-1.68219429e+00, -4.09773545e+00, -8.75632020e-01,\n",
       "        -3.20515274e-01,  9.05527314e-01, -3.80155725e-01,\n",
       "        -8.80281493e-01, -8.42765277e-01, -9.27446939e-01,\n",
       "        -1.01036297e+00, -8.73862898e-01],\n",
       "       [-1.56927191e+00, -3.18816946e+00, -6.01201306e-01,\n",
       "         1.74770239e+00, -2.13641726e+00,  3.95995547e-03,\n",
       "        -1.99497046e+00, -5.65103578e-01, -4.55482771e-01,\n",
       "         9.89743319e-01,  1.14434427e+00],\n",
       "       [-1.45634952e+00, -2.27860347e+00,  2.22090835e-01,\n",
       "         2.13218316e-01, -1.37593111e+00,  2.11659620e+00,\n",
       "         7.81102062e-01,  9.62035766e-01, -1.56350552e-01,\n",
       "         9.89743319e-01, -8.73862898e-01]])"
      ]
     },
     "execution_count": 26,
     "metadata": {},
     "output_type": "execute_result"
    }
   ],
   "source": [
    "sc_df1"
   ]
  },
  {
   "cell_type": "code",
   "execution_count": 27,
   "metadata": {},
   "outputs": [
    {
     "data": {
      "text/plain": [
       "array([ 0.56579677,  4.03577298, 11.3478902 ])"
      ]
     },
     "execution_count": 27,
     "metadata": {},
     "output_type": "execute_result"
    }
   ],
   "source": [
    "model.predict(sc_df1)"
   ]
  }
 ],
 "metadata": {
  "kernelspec": {
   "display_name": "Python 3",
   "language": "python",
   "name": "python3"
  },
  "language_info": {
   "codemirror_mode": {
    "name": "ipython",
    "version": 3
   },
   "file_extension": ".py",
   "mimetype": "text/x-python",
   "name": "python",
   "nbconvert_exporter": "python",
   "pygments_lexer": "ipython3",
   "version": "3.11.5"
  }
 },
 "nbformat": 4,
 "nbformat_minor": 2
}
